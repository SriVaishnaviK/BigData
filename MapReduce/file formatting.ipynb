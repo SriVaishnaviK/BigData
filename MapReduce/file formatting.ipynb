{
 "cells": [
  {
   "cell_type": "code",
   "execution_count": 54,
   "id": "beb3e0e4",
   "metadata": {},
   "outputs": [],
   "source": [
    "#Date of Birth:-03/02/2001\n",
    "import string\n",
    "\n",
    "def file_format(path):\n",
    "   \n",
    "    with open(path, encoding='utf8',errors='ignore') as file:\n",
    "        fileLines = file.readlines()\n",
    "\n",
    "   \n",
    "    formattedLines = []\n",
    "    for line in fileLines:\n",
    "        c = line.translate(str.maketrans('', '', string.punctuation))\n",
    "        c = ''.join(i for i in c if not i.isdigit())\n",
    "        c = c.replace(\"'\", \" \").replace(\"-\", \" \").lower()\n",
    "        formattedLines.append(c)\n",
    "    with open(path, 'w') as file:\n",
    "        file.write('\\n'.join(formattedLines))\n"
   ]
  },
  {
   "cell_type": "code",
   "execution_count": 56,
   "id": "191b0515",
   "metadata": {},
   "outputs": [],
   "source": [
    "#file1- Page2-Page11 of Book3\n",
    "file1=(r\"C:\\Users\\kudik\\OneDrive\\Desktop\\603\\DATA603\\MapReduce\\input\\file1.txt\")\n",
    "file_format(file1)\n"
   ]
  },
  {
   "cell_type": "code",
   "execution_count": 60,
   "id": "f48501ac",
   "metadata": {},
   "outputs": [],
   "source": [
    "#file1- Page101-Page110 of Book3\n",
    "file2=(r\"C:\\Users\\kudik\\OneDrive\\Desktop\\603\\DATA603\\MapReduce\\input\\file2.txt\")\n",
    "file_format(file2)"
   ]
  },
  {
   "cell_type": "code",
   "execution_count": 112,
   "id": "323e4dd8",
   "metadata": {},
   "outputs": [],
   "source": [
    "import enchant\n",
    "\n",
    "# Create an Enchant dictionary for the English language\n",
    "non-english = enchant.Dict(\"en_US\")\n",
    "\n",
    "# Opening the file and reading its contents\n",
    "with open(r\"C:\\Users\\kudik\\OneDrive\\Desktop\\603\\DATA603\\MapReduce\\input\\file2.txt\",\"r\") as file:\n",
    "    lines = file.readlines()\n",
    "\n",
    "# Looping through each line in the text\n",
    "nonEnglishWords = []\n",
    "for i in range(len(lines)):\n",
    "    line = lines[i]\n",
    "    words = line.split()\n",
    "\n",
    "    # Looping through each word in the line\n",
    "    for word in words:\n",
    "        # Checking if the word is not English\n",
    "        if not non-english.check(word):\n",
    "            # If the word is not English, adding it to the non_english_words list\n",
    "            nonEnglishWords.append(word)\n",
    "\n",
    "with open(r\"C:\\Users\\kudik\\OneDrive\\Desktop\\603\\DATA603\\MapReduce\\input\\file2a.txt\",\"w\") as file:\n",
    "    # Write each word to a new line in the file\n",
    "    for word in nonEnglishWords:\n",
    "        file.write(word+' ')\n",
    "\n",
    "\n"
   ]
  },
  {
   "cell_type": "code",
   "execution_count": null,
   "id": "f14a22c7",
   "metadata": {},
   "outputs": [],
   "source": []
  }
 ],
 "metadata": {
  "kernelspec": {
   "display_name": "Python 3 (ipykernel)",
   "language": "python",
   "name": "python3"
  },
  "language_info": {
   "codemirror_mode": {
    "name": "ipython",
    "version": 3
   },
   "file_extension": ".py",
   "mimetype": "text/x-python",
   "name": "python",
   "nbconvert_exporter": "python",
   "pygments_lexer": "ipython3",
   "version": "3.9.12"
  }
 },
 "nbformat": 4,
 "nbformat_minor": 5
}
